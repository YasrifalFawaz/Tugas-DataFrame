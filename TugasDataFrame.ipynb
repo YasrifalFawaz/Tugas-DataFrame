{
 "cells": [
  {
   "cell_type": "code",
   "execution_count": 9,
   "metadata": {},
   "outputs": [],
   "source": [
    "import pandas as pd\n",
    "\n",
    "#no 1\n",
    "df = pd.read_excel('disperkim-od_16985_jumlah_produksi_sampah_berdasarkan_kabupatenkota_v3_data.xlsx', sheet_name='data')\n",
    "\n",
    "df.to_csv('no1.csv', index=False)\n",
    "df.to_excel('no1.xlsx', index=False)"
   ]
  },
  {
   "cell_type": "code",
   "execution_count": 10,
   "metadata": {},
   "outputs": [
    {
     "name": "stdout",
     "output_type": "stream",
     "text": [
      "total sampah di tahun 2015 adalah: 20969.269999999997 ton\n"
     ]
    }
   ],
   "source": [
    "#no 2\n",
    "tahun_pilihan = 2015\n",
    "total_sampah_2015 = 0\n",
    "\n",
    "for i, r in df.iterrows():\n",
    "    if tahun_pilihan == r['tahun']:\n",
    "        total_sampah_2015 += r['jumlah_produksi_sampah']\n",
    "\n",
    "print(f\"total sampah di tahun 2015 adalah: {total_sampah_2015} ton\")\n",
    "\n",
    "total_sampah_2015 = pd.DataFrame({\"tahun\" : [tahun_pilihan], \"total produksi sampah\" : total_sampah_2015})\n",
    "total_sampah_2015.to_csv('no2.csv', index=False)\n",
    "total_sampah_2015.to_excel('no2.xlsx', index=False)"
   ]
  },
  {
   "cell_type": "code",
   "execution_count": 11,
   "metadata": {},
   "outputs": [
    {
     "name": "stdout",
     "output_type": "stream",
     "text": [
      "{2015: 27, 2016: 27, 2017: 27, 2018: 27, 2019: 27, 2020: 27, 2021: 27, 2022: 27, 2023: 27}\n"
     ]
    }
   ],
   "source": [
    "#no 3\n",
    "data_pertahun = {}\n",
    "\n",
    "for i, r in df.iterrows():\n",
    "    tahun = r['tahun']\n",
    "    \n",
    "    if tahun not in data_pertahun:\n",
    "        data_pertahun[tahun] = 0\n",
    "\n",
    "    data_pertahun[tahun] += 1\n",
    "\n",
    "print(data_pertahun)\n",
    "\n",
    "df_data_pertahun = pd.DataFrame.from_dict(data_pertahun, orient=\"index\", columns=['jumlah data'])\n",
    "df_data_pertahun.to_csv('no3.csv', index_label='tahun')\n",
    "df_data_pertahun.to_excel('no3.xlsx', index_label='tahun')\n"
   ]
  },
  {
   "cell_type": "code",
   "execution_count": 12,
   "metadata": {},
   "outputs": [
    {
     "name": "stdout",
     "output_type": "stream",
     "text": [
      "{('KABUPATEN BOGOR', 2015): 1, ('KABUPATEN SUKABUMI', 2015): 1, ('KABUPATEN CIANJUR', 2015): 1, ('KABUPATEN BANDUNG', 2015): 1, ('KABUPATEN GARUT', 2015): 1, ('KABUPATEN TASIKMALAYA', 2015): 1, ('KABUPATEN CIAMIS', 2015): 1, ('KABUPATEN KUNINGAN', 2015): 1, ('KABUPATEN CIREBON', 2015): 1, ('KABUPATEN MAJALENGKA', 2015): 1, ('KABUPATEN SUMEDANG', 2015): 1, ('KABUPATEN INDRAMAYU', 2015): 1, ('KABUPATEN SUBANG', 2015): 1, ('KABUPATEN PURWAKARTA', 2015): 1, ('KABUPATEN KARAWANG', 2015): 1, ('KABUPATEN BEKASI', 2015): 1, ('KABUPATEN BANDUNG BARAT', 2015): 1, ('KABUPATEN PANGANDARAN', 2015): 1, ('KOTA BOGOR', 2015): 1, ('KOTA SUKABUMI', 2015): 1, ('KOTA BANDUNG', 2015): 1, ('KOTA CIREBON', 2015): 1, ('KOTA BEKASI', 2015): 1, ('KOTA DEPOK', 2015): 1, ('KOTA CIMAHI', 2015): 1, ('KOTA TASIKMALAYA', 2015): 1, ('KOTA BANJAR', 2015): 1, ('KABUPATEN BOGOR', 2016): 1, ('KABUPATEN SUKABUMI', 2016): 1, ('KABUPATEN CIANJUR', 2016): 1, ('KABUPATEN BANDUNG', 2016): 1, ('KABUPATEN GARUT', 2016): 1, ('KABUPATEN TASIKMALAYA', 2016): 1, ('KABUPATEN CIAMIS', 2016): 1, ('KABUPATEN KUNINGAN', 2016): 1, ('KABUPATEN CIREBON', 2016): 1, ('KABUPATEN MAJALENGKA', 2016): 1, ('KABUPATEN SUMEDANG', 2016): 1, ('KABUPATEN INDRAMAYU', 2016): 1, ('KABUPATEN SUBANG', 2016): 1, ('KABUPATEN PURWAKARTA', 2016): 1, ('KABUPATEN KARAWANG', 2016): 1, ('KABUPATEN BEKASI', 2016): 1, ('KABUPATEN BANDUNG BARAT', 2016): 1, ('KABUPATEN PANGANDARAN', 2016): 1, ('KOTA BOGOR', 2016): 1, ('KOTA SUKABUMI', 2016): 1, ('KOTA BANDUNG', 2016): 1, ('KOTA CIREBON', 2016): 1, ('KOTA BEKASI', 2016): 1, ('KOTA DEPOK', 2016): 1, ('KOTA CIMAHI', 2016): 1, ('KOTA TASIKMALAYA', 2016): 1, ('KOTA BANJAR', 2016): 1, ('KABUPATEN BOGOR', 2017): 1, ('KABUPATEN SUKABUMI', 2017): 1, ('KABUPATEN CIANJUR', 2017): 1, ('KABUPATEN BANDUNG', 2017): 1, ('KABUPATEN GARUT', 2017): 1, ('KABUPATEN TASIKMALAYA', 2017): 1, ('KABUPATEN CIAMIS', 2017): 1, ('KABUPATEN KUNINGAN', 2017): 1, ('KABUPATEN CIREBON', 2017): 1, ('KABUPATEN MAJALENGKA', 2017): 1, ('KABUPATEN SUMEDANG', 2017): 1, ('KABUPATEN INDRAMAYU', 2017): 1, ('KABUPATEN SUBANG', 2017): 1, ('KABUPATEN PURWAKARTA', 2017): 1, ('KABUPATEN KARAWANG', 2017): 1, ('KABUPATEN BEKASI', 2017): 1, ('KABUPATEN BANDUNG BARAT', 2017): 1, ('KABUPATEN PANGANDARAN', 2017): 1, ('KOTA BOGOR', 2017): 1, ('KOTA SUKABUMI', 2017): 1, ('KOTA BANDUNG', 2017): 1, ('KOTA CIREBON', 2017): 1, ('KOTA BEKASI', 2017): 1, ('KOTA DEPOK', 2017): 1, ('KOTA CIMAHI', 2017): 1, ('KOTA TASIKMALAYA', 2017): 1, ('KOTA BANJAR', 2017): 1, ('KABUPATEN BOGOR', 2018): 1, ('KABUPATEN SUKABUMI', 2018): 1, ('KABUPATEN CIANJUR', 2018): 1, ('KABUPATEN BANDUNG', 2018): 1, ('KABUPATEN GARUT', 2018): 1, ('KABUPATEN TASIKMALAYA', 2018): 1, ('KABUPATEN CIAMIS', 2018): 1, ('KABUPATEN KUNINGAN', 2018): 1, ('KABUPATEN CIREBON', 2018): 1, ('KABUPATEN MAJALENGKA', 2018): 1, ('KABUPATEN SUMEDANG', 2018): 1, ('KABUPATEN INDRAMAYU', 2018): 1, ('KABUPATEN SUBANG', 2018): 1, ('KABUPATEN PURWAKARTA', 2018): 1, ('KABUPATEN KARAWANG', 2018): 1, ('KABUPATEN BEKASI', 2018): 1, ('KABUPATEN BANDUNG BARAT', 2018): 1, ('KABUPATEN PANGANDARAN', 2018): 1, ('KOTA BOGOR', 2018): 1, ('KOTA SUKABUMI', 2018): 1, ('KOTA BANDUNG', 2018): 1, ('KOTA CIREBON', 2018): 1, ('KOTA BEKASI', 2018): 1, ('KOTA DEPOK', 2018): 1, ('KOTA CIMAHI', 2018): 1, ('KOTA TASIKMALAYA', 2018): 1, ('KOTA BANJAR', 2018): 1, ('KABUPATEN BOGOR', 2019): 1, ('KABUPATEN SUKABUMI', 2019): 1, ('KABUPATEN CIANJUR', 2019): 1, ('KABUPATEN BANDUNG', 2019): 1, ('KABUPATEN GARUT', 2019): 1, ('KABUPATEN TASIKMALAYA', 2019): 1, ('KABUPATEN CIAMIS', 2019): 1, ('KABUPATEN KUNINGAN', 2019): 1, ('KABUPATEN CIREBON', 2019): 1, ('KABUPATEN MAJALENGKA', 2019): 1, ('KABUPATEN SUMEDANG', 2019): 1, ('KABUPATEN INDRAMAYU', 2019): 1, ('KABUPATEN SUBANG', 2019): 1, ('KABUPATEN PURWAKARTA', 2019): 1, ('KABUPATEN KARAWANG', 2019): 1, ('KABUPATEN BEKASI', 2019): 1, ('KABUPATEN BANDUNG BARAT', 2019): 1, ('KABUPATEN PANGANDARAN', 2019): 1, ('KOTA BOGOR', 2019): 1, ('KOTA SUKABUMI', 2019): 1, ('KOTA BANDUNG', 2019): 1, ('KOTA CIREBON', 2019): 1, ('KOTA BEKASI', 2019): 1, ('KOTA DEPOK', 2019): 1, ('KOTA CIMAHI', 2019): 1, ('KOTA TASIKMALAYA', 2019): 1, ('KOTA BANJAR', 2019): 1, ('KABUPATEN BOGOR', 2020): 1, ('KABUPATEN SUKABUMI', 2020): 1, ('KABUPATEN CIANJUR', 2020): 1, ('KABUPATEN BANDUNG', 2020): 1, ('KABUPATEN GARUT', 2020): 1, ('KABUPATEN TASIKMALAYA', 2020): 1, ('KABUPATEN CIAMIS', 2020): 1, ('KABUPATEN KUNINGAN', 2020): 1, ('KABUPATEN CIREBON', 2020): 1, ('KABUPATEN MAJALENGKA', 2020): 1, ('KABUPATEN SUMEDANG', 2020): 1, ('KABUPATEN INDRAMAYU', 2020): 1, ('KABUPATEN SUBANG', 2020): 1, ('KABUPATEN PURWAKARTA', 2020): 1, ('KABUPATEN KARAWANG', 2020): 1, ('KABUPATEN BEKASI', 2020): 1, ('KABUPATEN BANDUNG BARAT', 2020): 1, ('KABUPATEN PANGANDARAN', 2020): 1, ('KOTA BOGOR', 2020): 1, ('KOTA SUKABUMI', 2020): 1, ('KOTA BANDUNG', 2020): 1, ('KOTA CIREBON', 2020): 1, ('KOTA BEKASI', 2020): 1, ('KOTA DEPOK', 2020): 1, ('KOTA CIMAHI', 2020): 1, ('KOTA TASIKMALAYA', 2020): 1, ('KOTA BANJAR', 2020): 1, ('KABUPATEN BOGOR', 2021): 1, ('KABUPATEN SUKABUMI', 2021): 1, ('KABUPATEN CIANJUR', 2021): 1, ('KABUPATEN BANDUNG', 2021): 1, ('KABUPATEN GARUT', 2021): 1, ('KABUPATEN TASIKMALAYA', 2021): 1, ('KABUPATEN CIAMIS', 2021): 1, ('KABUPATEN KUNINGAN', 2021): 1, ('KABUPATEN CIREBON', 2021): 1, ('KABUPATEN MAJALENGKA', 2021): 1, ('KABUPATEN SUMEDANG', 2021): 1, ('KABUPATEN INDRAMAYU', 2021): 1, ('KABUPATEN SUBANG', 2021): 1, ('KABUPATEN PURWAKARTA', 2021): 1, ('KABUPATEN KARAWANG', 2021): 1, ('KABUPATEN BEKASI', 2021): 1, ('KABUPATEN BANDUNG BARAT', 2021): 1, ('KABUPATEN PANGANDARAN', 2021): 1, ('KOTA BOGOR', 2021): 1, ('KOTA SUKABUMI', 2021): 1, ('KOTA BANDUNG', 2021): 1, ('KOTA CIREBON', 2021): 1, ('KOTA BEKASI', 2021): 1, ('KOTA DEPOK', 2021): 1, ('KOTA CIMAHI', 2021): 1, ('KOTA TASIKMALAYA', 2021): 1, ('KOTA BANJAR', 2021): 1, ('KABUPATEN BOGOR', 2022): 1, ('KABUPATEN SUKABUMI', 2022): 1, ('KABUPATEN CIANJUR', 2022): 1, ('KABUPATEN BANDUNG', 2022): 1, ('KABUPATEN GARUT', 2022): 1, ('KABUPATEN TASIKMALAYA', 2022): 1, ('KABUPATEN CIAMIS', 2022): 1, ('KABUPATEN KUNINGAN', 2022): 1, ('KABUPATEN CIREBON', 2022): 1, ('KABUPATEN MAJALENGKA', 2022): 1, ('KABUPATEN SUMEDANG', 2022): 1, ('KABUPATEN INDRAMAYU', 2022): 1, ('KABUPATEN SUBANG', 2022): 1, ('KABUPATEN PURWAKARTA', 2022): 1, ('KABUPATEN KARAWANG', 2022): 1, ('KABUPATEN BEKASI', 2022): 1, ('KABUPATEN BANDUNG BARAT', 2022): 1, ('KABUPATEN PANGANDARAN', 2022): 1, ('KOTA BOGOR', 2022): 1, ('KOTA SUKABUMI', 2022): 1, ('KOTA BANDUNG', 2022): 1, ('KOTA CIREBON', 2022): 1, ('KOTA BEKASI', 2022): 1, ('KOTA DEPOK', 2022): 1, ('KOTA CIMAHI', 2022): 1, ('KOTA TASIKMALAYA', 2022): 1, ('KOTA BANJAR', 2022): 1, ('KABUPATEN BOGOR', 2023): 1, ('KABUPATEN SUKABUMI', 2023): 1, ('KABUPATEN CIANJUR', 2023): 1, ('KABUPATEN BANDUNG', 2023): 1, ('KABUPATEN GARUT', 2023): 1, ('KABUPATEN TASIKMALAYA', 2023): 1, ('KABUPATEN CIAMIS', 2023): 1, ('KABUPATEN KUNINGAN', 2023): 1, ('KABUPATEN CIREBON', 2023): 1, ('KABUPATEN MAJALENGKA', 2023): 1, ('KABUPATEN SUMEDANG', 2023): 1, ('KABUPATEN INDRAMAYU', 2023): 1, ('KABUPATEN SUBANG', 2023): 1, ('KABUPATEN PURWAKARTA', 2023): 1, ('KABUPATEN KARAWANG', 2023): 1, ('KABUPATEN BEKASI', 2023): 1, ('KABUPATEN BANDUNG BARAT', 2023): 1, ('KABUPATEN PANGANDARAN', 2023): 1, ('KOTA BOGOR', 2023): 1, ('KOTA SUKABUMI', 2023): 1, ('KOTA BANDUNG', 2023): 1, ('KOTA CIREBON', 2023): 1, ('KOTA BEKASI', 2023): 1, ('KOTA DEPOK', 2023): 1, ('KOTA CIMAHI', 2023): 1, ('KOTA TASIKMALAYA', 2023): 1, ('KOTA BANJAR', 2023): 1}\n"
     ]
    }
   ],
   "source": [
    "#no 4\n",
    "total_perwilayah_pertahun = {}\n",
    "\n",
    "for i, r in df.iterrows():\n",
    "    wilayah = r['nama_kabupaten_kota']\n",
    "    tahun = r['tahun']\n",
    "\n",
    "    if (wilayah, tahun) not in total_perwilayah_pertahun:\n",
    "        total_perwilayah_pertahun[(wilayah, tahun)] = 0\n",
    "\n",
    "    total_perwilayah_pertahun[(wilayah, tahun)] += 1\n",
    "\n",
    "print(total_perwilayah_pertahun)\n",
    "\n",
    "hasil = pd.DataFrame.from_dict(total_perwilayah_pertahun, orient=\"index\", columns=['jumlah data'])\n",
    "hasil.to_csv('no4.csv', index_label='wilayah, tahun')\n",
    "hasil.to_excel('no4.xlsx', index_label='wilayah, tahun')"
   ]
  }
 ],
 "metadata": {
  "kernelspec": {
   "display_name": "Python 3",
   "language": "python",
   "name": "python3"
  },
  "language_info": {
   "codemirror_mode": {
    "name": "ipython",
    "version": 3
   },
   "file_extension": ".py",
   "mimetype": "text/x-python",
   "name": "python",
   "nbconvert_exporter": "python",
   "pygments_lexer": "ipython3",
   "version": "3.12.7"
  }
 },
 "nbformat": 4,
 "nbformat_minor": 2
}
